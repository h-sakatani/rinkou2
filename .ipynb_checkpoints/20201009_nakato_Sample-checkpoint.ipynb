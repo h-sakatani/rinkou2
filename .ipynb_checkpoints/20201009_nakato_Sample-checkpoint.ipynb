{
 "cells": [
  {
   "cell_type": "code",
   "execution_count": 1,
   "metadata": {},
   "outputs": [
    {
     "name": "stderr",
     "output_type": "stream",
     "text": [
      "Matplotlib is building the font cache using fc-list. This may take a moment.\n"
     ]
    }
   ],
   "source": [
    "import numpy as np\n",
    "import matplotlib.pyplot as plt\n",
    "import pandas as pd\n",
    "import seaborn as sns"
   ]
  },
  {
   "cell_type": "code",
   "execution_count": null,
   "metadata": {},
   "outputs": [],
   "source": [
    "df = pd.read_csv(\"20201009_nakato_sampledata/E024-Input.jaccard.csv\", sep='\\t', index_col='Strand shift')"
   ]
  },
  {
   "cell_type": "code",
   "execution_count": 2,
   "metadata": {},
   "outputs": [
    {
     "data": {
      "text/html": [
       "<div>\n",
       "<style scoped>\n",
       "    .dataframe tbody tr th:only-of-type {\n",
       "        vertical-align: middle;\n",
       "    }\n",
       "\n",
       "    .dataframe tbody tr th {\n",
       "        vertical-align: top;\n",
       "    }\n",
       "\n",
       "    .dataframe thead th {\n",
       "        text-align: right;\n",
       "    }\n",
       "</style>\n",
       "<table border=\"1\" class=\"dataframe\">\n",
       "  <thead>\n",
       "    <tr style=\"text-align: right;\">\n",
       "      <th></th>\n",
       "      <th>Jaccard index</th>\n",
       "      <th>Proportion</th>\n",
       "      <th>per 10M reads for 100Mbp len</th>\n",
       "      <th>per control</th>\n",
       "    </tr>\n",
       "    <tr>\n",
       "      <th>Strand shift</th>\n",
       "      <th></th>\n",
       "      <th></th>\n",
       "      <th></th>\n",
       "      <th></th>\n",
       "    </tr>\n",
       "  </thead>\n",
       "  <tbody>\n",
       "    <tr>\n",
       "      <th>-500</th>\n",
       "      <td>0.002939</td>\n",
       "      <td>0.000465</td>\n",
       "      <td>0.024651</td>\n",
       "      <td>1.084290</td>\n",
       "    </tr>\n",
       "    <tr>\n",
       "      <th>-499</th>\n",
       "      <td>0.002954</td>\n",
       "      <td>0.000467</td>\n",
       "      <td>0.024779</td>\n",
       "      <td>1.089910</td>\n",
       "    </tr>\n",
       "    <tr>\n",
       "      <th>-498</th>\n",
       "      <td>0.002966</td>\n",
       "      <td>0.000469</td>\n",
       "      <td>0.024880</td>\n",
       "      <td>1.094350</td>\n",
       "    </tr>\n",
       "    <tr>\n",
       "      <th>-497</th>\n",
       "      <td>0.002941</td>\n",
       "      <td>0.000465</td>\n",
       "      <td>0.024668</td>\n",
       "      <td>1.085060</td>\n",
       "    </tr>\n",
       "    <tr>\n",
       "      <th>-496</th>\n",
       "      <td>0.002967</td>\n",
       "      <td>0.000469</td>\n",
       "      <td>0.024890</td>\n",
       "      <td>1.094820</td>\n",
       "    </tr>\n",
       "    <tr>\n",
       "      <th>...</th>\n",
       "      <td>...</td>\n",
       "      <td>...</td>\n",
       "      <td>...</td>\n",
       "      <td>...</td>\n",
       "    </tr>\n",
       "    <tr>\n",
       "      <th>975000</th>\n",
       "      <td>0.002696</td>\n",
       "      <td>0.000426</td>\n",
       "      <td>0.022613</td>\n",
       "      <td>0.994637</td>\n",
       "    </tr>\n",
       "    <tr>\n",
       "      <th>980000</th>\n",
       "      <td>0.002697</td>\n",
       "      <td>0.000427</td>\n",
       "      <td>0.022623</td>\n",
       "      <td>0.995069</td>\n",
       "    </tr>\n",
       "    <tr>\n",
       "      <th>985000</th>\n",
       "      <td>0.002692</td>\n",
       "      <td>0.000426</td>\n",
       "      <td>0.022583</td>\n",
       "      <td>0.993328</td>\n",
       "    </tr>\n",
       "    <tr>\n",
       "      <th>990000</th>\n",
       "      <td>0.002711</td>\n",
       "      <td>0.000429</td>\n",
       "      <td>0.022743</td>\n",
       "      <td>1.000340</td>\n",
       "    </tr>\n",
       "    <tr>\n",
       "      <th>995000</th>\n",
       "      <td>0.002710</td>\n",
       "      <td>0.000429</td>\n",
       "      <td>0.022736</td>\n",
       "      <td>1.000070</td>\n",
       "    </tr>\n",
       "  </tbody>\n",
       "</table>\n",
       "<p>2199 rows × 4 columns</p>\n",
       "</div>"
      ],
      "text/plain": [
       "              Jaccard index  Proportion  per 10M reads for 100Mbp len  \\\n",
       "Strand shift                                                            \n",
       "-500               0.002939    0.000465                      0.024651   \n",
       "-499               0.002954    0.000467                      0.024779   \n",
       "-498               0.002966    0.000469                      0.024880   \n",
       "-497               0.002941    0.000465                      0.024668   \n",
       "-496               0.002967    0.000469                      0.024890   \n",
       "...                     ...         ...                           ...   \n",
       " 975000            0.002696    0.000426                      0.022613   \n",
       " 980000            0.002697    0.000427                      0.022623   \n",
       " 985000            0.002692    0.000426                      0.022583   \n",
       " 990000            0.002711    0.000429                      0.022743   \n",
       " 995000            0.002710    0.000429                      0.022736   \n",
       "\n",
       "              per control  \n",
       "Strand shift               \n",
       "-500             1.084290  \n",
       "-499             1.089910  \n",
       "-498             1.094350  \n",
       "-497             1.085060  \n",
       "-496             1.094820  \n",
       "...                   ...  \n",
       " 975000          0.994637  \n",
       " 980000          0.995069  \n",
       " 985000          0.993328  \n",
       " 990000          1.000340  \n",
       " 995000          1.000070  \n",
       "\n",
       "[2199 rows x 4 columns]"
      ]
     },
     "execution_count": 2,
     "metadata": {},
     "output_type": "execute_result"
    }
   ],
   "source": [
    "df = pd.read_csv(\"20201009_nakato_sampledata/E024-Input.jaccard.csv\", sep='\\t', skiprows=6, index_col='Strand shift')\n",
    "df"
   ]
  },
  {
   "cell_type": "code",
   "execution_count": 3,
   "metadata": {},
   "outputs": [
    {
     "data": {
      "text/plain": [
       "Strand shift\n",
       "-500       1.084290\n",
       "-499       1.089910\n",
       "-498       1.094350\n",
       "-497       1.085060\n",
       "-496       1.094820\n",
       "             ...   \n",
       " 975000    0.994637\n",
       " 980000    0.995069\n",
       " 985000    0.993328\n",
       " 990000    1.000340\n",
       " 995000    1.000070\n",
       "Name: per control, Length: 2199, dtype: float64"
      ]
     },
     "execution_count": 3,
     "metadata": {},
     "output_type": "execute_result"
    }
   ],
   "source": [
    "# per control 列だけを抜き出す\n",
    "pc = df.iloc[:,3]\n",
    "pc"
   ]
  },
  {
   "cell_type": "code",
   "execution_count": 4,
   "metadata": {},
   "outputs": [
    {
     "data": {
      "text/plain": [
       "Strand shift\n",
       "-500       1.084290\n",
       "-499       1.089910\n",
       "-498       1.094350\n",
       "-497       1.085060\n",
       "-496       1.094820\n",
       "             ...   \n",
       " 975000    0.994637\n",
       " 980000    0.995069\n",
       " 985000    0.993328\n",
       " 990000    1.000340\n",
       " 995000    1.000070\n",
       "Name: per control, Length: 2199, dtype: float64"
      ]
     },
     "execution_count": 4,
     "metadata": {},
     "output_type": "execute_result"
    }
   ],
   "source": [
    "# 列名で指定してもよい\n",
    "pc = df[\"per control\"]\n",
    "pc"
   ]
  },
  {
   "cell_type": "code",
   "execution_count": 5,
   "metadata": {},
   "outputs": [
    {
     "data": {
      "text/plain": [
       "[<matplotlib.lines.Line2D at 0x7fb30bcafa10>]"
      ]
     },
     "execution_count": 5,
     "metadata": {},
     "output_type": "execute_result"
    },
    {
     "data": {
      "image/png": "[encoded data removed]",
      "text/plain": [
       "<Figure size 432x288 with 1 Axes>"
      ]
     },
     "metadata": {
      "needs_background": "light"
     },
     "output_type": "display_data"
    }
   ],
   "source": [
    "# 最もシンプルな可視化（x軸：index, y軸: per control）\n",
    "plt.plot(pc)"
   ]
  },
  {
   "cell_type": "code",
   "execution_count": 7,
   "metadata": {},
   "outputs": [
    {
     "data": {
      "text/plain": [
       "[<matplotlib.lines.Line2D at 0x7fb30b18f350>]"
      ]
     },
     "execution_count": 7,
     "metadata": {},
     "output_type": "execute_result"
    },
    {
     "data": {
      "image/png": "[encoded data removed]",
      "text/plain": [
       "<Figure size 432x288 with 1 Axes>"
      ]
     },
     "metadata": {
      "needs_background": "light"
     },
     "output_type": "display_data"
    }
   ],
   "source": [
    "# これでも同じ\n",
    "plt.plot(pc.index, pc)"
   ]
  },
  {
   "cell_type": "markdown",
   "metadata": {},
   "source": [
    "## Strand shift 0~ 500 bpまでを可視化したい"
   ]
  },
  {
   "cell_type": "code",
   "execution_count": 8,
   "metadata": {},
   "outputs": [
    {
     "data": {
      "text/plain": [
       "Strand shift\n",
       "0      1.12983\n",
       "1      1.13697\n",
       "2      1.15139\n",
       "3      1.17770\n",
       "4      1.17967\n",
       "        ...   \n",
       "496    1.10159\n",
       "497    1.10175\n",
       "498    1.09849\n",
       "499    1.10400\n",
       "500    1.10241\n",
       "Name: per control, Length: 501, dtype: float64"
      ]
     },
     "execution_count": 8,
     "metadata": {},
     "output_type": "execute_result"
    }
   ],
   "source": [
    "pc[500:1001]"
   ]
  },
  {
   "cell_type": "code",
   "execution_count": 9,
   "metadata": {},
   "outputs": [
    {
     "data": {
      "text/plain": [
       "[<matplotlib.lines.Line2D at 0x7fb30b0b11d0>]"
      ]
     },
     "execution_count": 9,
     "metadata": {},
     "output_type": "execute_result"
    },
    {
     "data": {
      "image/png": "[encoded data removed]",
      "text/plain": [
       "<Figure size 432x288 with 1 Axes>"
      ]
     },
     "metadata": {
      "needs_background": "light"
     },
     "output_type": "display_data"
    }
   ],
   "source": [
    "plt.plot(pc[500:1001])"
   ]
  },
  {
   "cell_type": "code",
   "execution_count": 10,
   "metadata": {},
   "outputs": [
    {
     "data": {
      "text/plain": [
       "(0, 500)"
      ]
     },
     "execution_count": 10,
     "metadata": {},
     "output_type": "execute_result"
    },
    {
     "data": {
      "image/png": "[encoded data removed]",
      "text/plain": [
       "<Figure size 288x288 with 1 Axes>"
      ]
     },
     "metadata": {
      "needs_background": "light"
     },
     "output_type": "display_data"
    }
   ],
   "source": [
    "# pltオブジェクトで結果を操作\n",
    "plt.figure(figsize=(4,4))\n",
    "plt.plot(pc)\n",
    "plt.xlim(0,500)"
   ]
  },
  {
   "cell_type": "code",
   "execution_count": 11,
   "metadata": {},
   "outputs": [
    {
     "data": {
      "text/plain": [
       "<matplotlib.legend.Legend at 0x7fb30b048290>"
      ]
     },
     "execution_count": 11,
     "metadata": {},
     "output_type": "execute_result"
    },
    {
     "data": {
      "image/png": "[encoded data removed]",
      "text/plain": [
       "<Figure size 288x288 with 1 Axes>"
      ]
     },
     "metadata": {
      "needs_background": "light"
     },
     "output_type": "display_data"
    }
   ],
   "source": [
    "# legendをつけてみる\n",
    "plt.figure(figsize=(4,4))\n",
    "plt.plot(pc, label=\"E024\")\n",
    "plt.xlim(0,500)\n",
    "plt.legend(loc='upper right')"
   ]
  },
  {
   "cell_type": "code",
   "execution_count": 13,
   "metadata": {},
   "outputs": [
    {
     "data": {
      "text/plain": [
       "<matplotlib.legend.Legend at 0x7fb30af8ff50>"
      ]
     },
     "execution_count": 13,
     "metadata": {},
     "output_type": "execute_result"
    },
    {
     "data": {
      "image/png": "[encoded data removed]",
      "text/plain": [
       "<Figure size 288x288 with 1 Axes>"
      ]
     },
     "metadata": {
      "needs_background": "light"
     },
     "output_type": "display_data"
    }
   ],
   "source": [
    "# 線の色を変えてみる\n",
    "plt.figure(figsize=(4,4))\n",
    "plt.plot(pc, label=\"E024\", color=\"red\")\n",
    "plt.xlim(0,500)\n",
    "plt.legend(loc='upper right')"
   ]
  },
  {
   "cell_type": "code",
   "execution_count": 15,
   "metadata": {},
   "outputs": [],
   "source": [
    "# 3サンプルを重ねて可視化\n",
    "df1 = pd.read_csv(\"20201009_nakato_sampledata/E024-Input.jaccard.csv\", sep='\\t', skiprows=6, index_col='Strand shift')\n",
    "df2 = pd.read_csv(\"20201009_nakato_sampledata/E058-Input.jaccard.csv\", sep='\\t', skiprows=6, index_col='Strand shift')\n",
    "df3 = pd.read_csv(\"20201009_nakato_sampledata/E096-Input.jaccard.csv\", sep='\\t', skiprows=6, index_col='Strand shift')"
   ]
  },
  {
   "cell_type": "code",
   "execution_count": 17,
   "metadata": {},
   "outputs": [
    {
     "data": {
      "text/plain": [
       "<matplotlib.legend.Legend at 0x7fb30ae1f290>"
      ]
     },
     "execution_count": 17,
     "metadata": {},
     "output_type": "execute_result"
    },
    {
     "data": {
      "image/png": "[encoded data removed]",
      "text/plain": [
       "<Figure size 288x288 with 1 Axes>"
      ]
     },
     "metadata": {
      "needs_background": "light"
     },
     "output_type": "display_data"
    }
   ],
   "source": [
    "plt.figure(figsize=(4,4))\n",
    "plt.plot(df1[\"per control\"], label=\"E024\", color=\"red\")\n",
    "plt.plot(df2[\"per control\"], label=\"E058\", color=\"blue\")\n",
    "plt.plot(df3[\"per control\"], label=\"E096\", color=\"black\")\n",
    "plt.xlim(0,500)\n",
    "plt.legend(loc='upper right')"
   ]
  },
  {
   "cell_type": "code",
   "execution_count": 20,
   "metadata": {},
   "outputs": [
    {
     "data": {
      "image/png": "[encoded data removed]",
      "text/plain": [
       "<Figure size 288x288 with 1 Axes>"
      ]
     },
     "metadata": {
      "needs_background": "light"
     },
     "output_type": "display_data"
    }
   ],
   "source": [
    "# 図をpdfにして保存\n",
    "plt.figure(figsize=(4,4))\n",
    "plt.plot(df1.iloc[:,3], label=\"E024\", color=\"red\")\n",
    "plt.plot(df2.iloc[:,3], label=\"E058\", color=\"blue\")\n",
    "plt.plot(df3.iloc[:,3], label=\"E096\", color=\"black\")\n",
    "plt.xlim(0,500)\n",
    "plt.legend(loc='upper right')\n",
    "plt.savefig(\"Sample.Jaccard.0-500.pdf\")"
   ]
  },
  {
   "cell_type": "markdown",
   "metadata": {},
   "source": [
    "## お題"
   ]
  },
  {
   "cell_type": "code",
   "execution_count": 44,
   "metadata": {},
   "outputs": [],
   "source": [
    "# お題１：\n",
    "# 上の３サンプルの図について、y軸のスケールを0から4にして表示する。"
   ]
  },
  {
   "cell_type": "code",
   "execution_count": 42,
   "metadata": {},
   "outputs": [],
   "source": [
    "# お題２：\n",
    "# 上の３サンプルの図について、x軸を対数軸にし、0から1000000まで表示してみる。"
   ]
  },
  {
   "cell_type": "code",
   "execution_count": null,
   "metadata": {},
   "outputs": [],
   "source": [
    "# お題３：\n",
    "# 上の３サンプルの図について、３サンプルの「平均値」を持ったデータを作成し、上の図に追加で表示。（色は何色でもよい）"
   ]
  },
  {
   "cell_type": "code",
   "execution_count": null,
   "metadata": {},
   "outputs": [],
   "source": [
    "# お題４：\n",
    "# Jaccard index の列について、同じ３サンプルの図を作る。\n",
    "# 更に、「per control」の図と合わせて、「per control」「Jaccard index」の２つの図を横に並べて表示させる。\n",
    "# その図を \"rinkou_1009_<yourname>.pdf\" という名前でローカルに保存する。"
   ]
  },
  {
   "cell_type": "code",
   "execution_count": null,
   "metadata": {},
   "outputs": [],
   "source": [
    "# お題５：\n",
    "# 任意の３つのサンプルを入力にとり、３サンプルを重ねた「per control」の図をpdfとして出力するPythonスクリプトを作成する。\n",
    "# その際、前回用いたサンプルファイル、もしくは自分が作成したスクリプトを改良するかたちで行うこと。\n",
    "# 出力例はtestdata ディレクトリに含まれるサンプルのうち３つを利用する。出力される図はlegendが適切に入るようにすること。"
   ]
  },
  {
   "cell_type": "code",
   "execution_count": null,
   "metadata": {},
   "outputs": [],
   "source": [
    "# 発展課題（余裕があれば）\n",
    "# testdata ディレクトリに含まれる全てのサンプルについて、１サンプルずつ per control(0~500 bp) のpdfを出力する\n",
    "# Pythonスクリプト or シェルスクリプトを作成する。"
   ]
  },
  {
   "cell_type": "markdown",
   "metadata": {},
   "source": [
    "今回のペア\n",
    "- 王　ー　堺谷（＆西條）\n",
    "- 仲嶋　ー　横田\n",
    "- 牧野　ー　大庭\n",
    "\n",
    "事前のディスカッションは特に必要ない。最低限pull request -> merge後のディスカッションのみでOK。（もちろん希望あれば多く議論することは良いこと）"
   ]
  },
  {
   "cell_type": "code",
   "execution_count": null,
   "metadata": {},
   "outputs": [],
   "source": []
  }
 ],
 "metadata": {
  "kernelspec": {
   "display_name": "Python 3",
   "language": "python",
   "name": "python3"
  },
  "language_info": {
   "codemirror_mode": {
    "name": "ipython",
    "version": 3
   },
   "file_extension": ".py",
   "mimetype": "text/x-python",
   "name": "python",
   "nbconvert_exporter": "python",
   "pygments_lexer": "ipython3",
   "version": "3.6.9"
  }
 },
 "nbformat": 4,
 "nbformat_minor": 4
}
